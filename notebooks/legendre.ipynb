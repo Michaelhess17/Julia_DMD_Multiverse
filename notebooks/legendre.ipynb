version https://git-lfs.github.com/spec/v1
oid sha256:cc0ddf90e589770bd32c000fdbd661e887f8f398be9baae372f8610a204d6c5b
size 465339
