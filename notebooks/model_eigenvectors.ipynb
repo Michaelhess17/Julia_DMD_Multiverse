version https://git-lfs.github.com/spec/v1
oid sha256:02390f052a64bc70ee480803d851e6ad9104913941a84e2660a6d2d29ef0b2f2
size 2323667
